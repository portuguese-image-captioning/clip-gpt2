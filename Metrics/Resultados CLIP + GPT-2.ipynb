{
 "cells": [
  {
   "cell_type": "code",
   "execution_count": 1,
   "id": "11acc0dd",
   "metadata": {},
   "outputs": [],
   "source": [
    "import pandas as pd"
   ]
  },
  {
   "cell_type": "code",
   "execution_count": 2,
   "id": "d2b190bd",
   "metadata": {},
   "outputs": [],
   "source": [
    "df_ravi = pd.read_csv('COCO_annotations_gen.csv')"
   ]
  },
  {
   "cell_type": "code",
   "execution_count": 3,
   "id": "e343363e",
   "metadata": {},
   "outputs": [
    {
     "data": {
      "text/html": [
       "<div>\n",
       "<style scoped>\n",
       "    .dataframe tbody tr th:only-of-type {\n",
       "        vertical-align: middle;\n",
       "    }\n",
       "\n",
       "    .dataframe tbody tr th {\n",
       "        vertical-align: top;\n",
       "    }\n",
       "\n",
       "    .dataframe thead th {\n",
       "        text-align: right;\n",
       "    }\n",
       "</style>\n",
       "<table border=\"1\" class=\"dataframe\">\n",
       "  <thead>\n",
       "    <tr style=\"text-align: right;\">\n",
       "      <th></th>\n",
       "      <th>Unnamed: 0.1</th>\n",
       "      <th>Unnamed: 0</th>\n",
       "      <th>image_id</th>\n",
       "      <th>id</th>\n",
       "      <th>caption</th>\n",
       "      <th>caption_pt</th>\n",
       "      <th>gen_caption</th>\n",
       "    </tr>\n",
       "  </thead>\n",
       "  <tbody>\n",
       "    <tr>\n",
       "      <th>0</th>\n",
       "      <td>0</td>\n",
       "      <td>0</td>\n",
       "      <td>179765</td>\n",
       "      <td>38</td>\n",
       "      <td>A black Honda motorcycle parked in front of a ...</td>\n",
       "      <td>Uma motocicleta Honda preta estacionada em fre...</td>\n",
       "      <td>Uma motocicleta preta estacionada em um quinta...</td>\n",
       "    </tr>\n",
       "    <tr>\n",
       "      <th>1</th>\n",
       "      <td>1</td>\n",
       "      <td>1</td>\n",
       "      <td>179765</td>\n",
       "      <td>182</td>\n",
       "      <td>A Honda motorcycle parked in a grass driveway</td>\n",
       "      <td>Uma motocicleta Honda estacionada em uma entra...</td>\n",
       "      <td>Uma motocicleta preta estacionada em um quinta...</td>\n",
       "    </tr>\n",
       "    <tr>\n",
       "      <th>2</th>\n",
       "      <td>2</td>\n",
       "      <td>2</td>\n",
       "      <td>190236</td>\n",
       "      <td>401</td>\n",
       "      <td>An office cubicle with four different types of...</td>\n",
       "      <td>Um cubículo de escritório com quatro tipos dif...</td>\n",
       "      <td>Uma mesa de computador com dois monitores e um...</td>\n",
       "    </tr>\n",
       "    <tr>\n",
       "      <th>3</th>\n",
       "      <td>3</td>\n",
       "      <td>3</td>\n",
       "      <td>331352</td>\n",
       "      <td>441</td>\n",
       "      <td>A small closed toilet in a cramped space.</td>\n",
       "      <td>Um pequeno banheiro fechado em um espaço apert...</td>\n",
       "      <td>Um vaso sanitário branco sentado em um banheir...</td>\n",
       "    </tr>\n",
       "    <tr>\n",
       "      <th>4</th>\n",
       "      <td>4</td>\n",
       "      <td>4</td>\n",
       "      <td>517069</td>\n",
       "      <td>447</td>\n",
       "      <td>Two women waiting at a bench next to a street.</td>\n",
       "      <td>Duas mulheres esperando em um banco ao lado de...</td>\n",
       "      <td>Uma mulher sentada em um banco na calçada.</td>\n",
       "    </tr>\n",
       "    <tr>\n",
       "      <th>...</th>\n",
       "      <td>...</td>\n",
       "      <td>...</td>\n",
       "      <td>...</td>\n",
       "      <td>...</td>\n",
       "      <td>...</td>\n",
       "      <td>...</td>\n",
       "      <td>...</td>\n",
       "    </tr>\n",
       "    <tr>\n",
       "      <th>25009</th>\n",
       "      <td>25009</td>\n",
       "      <td>25009</td>\n",
       "      <td>9590</td>\n",
       "      <td>821635</td>\n",
       "      <td>A group of men sipping drinks and talking at a...</td>\n",
       "      <td>Um grupo de homens bebendo bebidas e conversan...</td>\n",
       "      <td>Um grupo de pessoas sentadas ao redor de uma m...</td>\n",
       "    </tr>\n",
       "    <tr>\n",
       "      <th>25010</th>\n",
       "      <td>25010</td>\n",
       "      <td>25010</td>\n",
       "      <td>84664</td>\n",
       "      <td>822557</td>\n",
       "      <td>A plate of food with some eggs, potatoes, brea...</td>\n",
       "      <td>Um prato de comida com alguns ovos, batatas, p...</td>\n",
       "      <td>Um prato branco coberto com diferentes tipos d...</td>\n",
       "    </tr>\n",
       "    <tr>\n",
       "      <th>25011</th>\n",
       "      <td>25011</td>\n",
       "      <td>25011</td>\n",
       "      <td>331569</td>\n",
       "      <td>824852</td>\n",
       "      <td>The strawberries was sitting beside the tall g...</td>\n",
       "      <td>Os morangos estavam sentados ao lado do copo a...</td>\n",
       "      <td>Um copo de suco de laranja ao lado de um smoot...</td>\n",
       "    </tr>\n",
       "    <tr>\n",
       "      <th>25012</th>\n",
       "      <td>25012</td>\n",
       "      <td>25012</td>\n",
       "      <td>231237</td>\n",
       "      <td>825902</td>\n",
       "      <td>A bunch of small red flowers in a barnacle enc...</td>\n",
       "      <td>Um monte de pequenas flores vermelhas em um va...</td>\n",
       "      <td>Um vaso cheio de flores em cima de uma mesa.</td>\n",
       "    </tr>\n",
       "    <tr>\n",
       "      <th>25013</th>\n",
       "      <td>25013</td>\n",
       "      <td>25013</td>\n",
       "      <td>386134</td>\n",
       "      <td>826793</td>\n",
       "      <td>Food is in a styrofoam take out container.</td>\n",
       "      <td>A comida está em um recipiente de isopor.</td>\n",
       "      <td>Um recipiente de plástico cheio de diferentes ...</td>\n",
       "    </tr>\n",
       "  </tbody>\n",
       "</table>\n",
       "<p>25014 rows × 7 columns</p>\n",
       "</div>"
      ],
      "text/plain": [
       "       Unnamed: 0.1  Unnamed: 0  image_id      id  \\\n",
       "0                 0           0    179765      38   \n",
       "1                 1           1    179765     182   \n",
       "2                 2           2    190236     401   \n",
       "3                 3           3    331352     441   \n",
       "4                 4           4    517069     447   \n",
       "...             ...         ...       ...     ...   \n",
       "25009         25009       25009      9590  821635   \n",
       "25010         25010       25010     84664  822557   \n",
       "25011         25011       25011    331569  824852   \n",
       "25012         25012       25012    231237  825902   \n",
       "25013         25013       25013    386134  826793   \n",
       "\n",
       "                                                 caption  \\\n",
       "0      A black Honda motorcycle parked in front of a ...   \n",
       "1          A Honda motorcycle parked in a grass driveway   \n",
       "2      An office cubicle with four different types of...   \n",
       "3              A small closed toilet in a cramped space.   \n",
       "4         Two women waiting at a bench next to a street.   \n",
       "...                                                  ...   \n",
       "25009  A group of men sipping drinks and talking at a...   \n",
       "25010  A plate of food with some eggs, potatoes, brea...   \n",
       "25011  The strawberries was sitting beside the tall g...   \n",
       "25012  A bunch of small red flowers in a barnacle enc...   \n",
       "25013         Food is in a styrofoam take out container.   \n",
       "\n",
       "                                              caption_pt  \\\n",
       "0      Uma motocicleta Honda preta estacionada em fre...   \n",
       "1      Uma motocicleta Honda estacionada em uma entra...   \n",
       "2      Um cubículo de escritório com quatro tipos dif...   \n",
       "3      Um pequeno banheiro fechado em um espaço apert...   \n",
       "4      Duas mulheres esperando em um banco ao lado de...   \n",
       "...                                                  ...   \n",
       "25009  Um grupo de homens bebendo bebidas e conversan...   \n",
       "25010  Um prato de comida com alguns ovos, batatas, p...   \n",
       "25011  Os morangos estavam sentados ao lado do copo a...   \n",
       "25012  Um monte de pequenas flores vermelhas em um va...   \n",
       "25013          A comida está em um recipiente de isopor.   \n",
       "\n",
       "                                             gen_caption  \n",
       "0      Uma motocicleta preta estacionada em um quinta...  \n",
       "1      Uma motocicleta preta estacionada em um quinta...  \n",
       "2      Uma mesa de computador com dois monitores e um...  \n",
       "3      Um vaso sanitário branco sentado em um banheir...  \n",
       "4             Uma mulher sentada em um banco na calçada.  \n",
       "...                                                  ...  \n",
       "25009  Um grupo de pessoas sentadas ao redor de uma m...  \n",
       "25010  Um prato branco coberto com diferentes tipos d...  \n",
       "25011  Um copo de suco de laranja ao lado de um smoot...  \n",
       "25012       Um vaso cheio de flores em cima de uma mesa.  \n",
       "25013  Um recipiente de plástico cheio de diferentes ...  \n",
       "\n",
       "[25014 rows x 7 columns]"
      ]
     },
     "execution_count": 3,
     "metadata": {},
     "output_type": "execute_result"
    }
   ],
   "source": [
    "df_ravi"
   ]
  },
  {
   "cell_type": "code",
   "execution_count": 36,
   "id": "636c866c",
   "metadata": {},
   "outputs": [],
   "source": [
    "referencias = []\n",
    "preditcs = []\n",
    " \n",
    "for i in df_ravi['image_id']:\n",
    "    aux = []\n",
    "    for j in range(len(df_ravi[df_ravi['image_id']==331352]['caption_pt'].values)):\n",
    "        aux.append(df_ravi[df_ravi['image_id']==i]['caption_pt'].values[j].split(\" \"))\n",
    "    referencias.append(aux)\n",
    "    preditcs.append(df_ravi[df_ravi['image_id']==i]['gen_caption'].values[0].split(\" \"))"
   ]
  },
  {
   "cell_type": "code",
   "execution_count": null,
   "id": "20d11aa4",
   "metadata": {},
   "outputs": [],
   "source": []
  },
  {
   "cell_type": "code",
   "execution_count": 19,
   "id": "1dbf94eb",
   "metadata": {},
   "outputs": [
    {
     "data": {
      "text/plain": [
       "['Um', 'pequeno', 'banheiro', 'fechado', 'em', 'um', 'espaço', 'apertado.']"
      ]
     },
     "execution_count": 19,
     "metadata": {},
     "output_type": "execute_result"
    }
   ],
   "source": [
    "df_ravi[df_ravi['image_id']==331352]['caption_pt'].values[0].split(\" \")"
   ]
  },
  {
   "cell_type": "code",
   "execution_count": 66,
   "id": "928ff807",
   "metadata": {},
   "outputs": [
    {
     "data": {
      "text/plain": [
       "['Um',\n",
       " 'vaso',\n",
       " 'sanitário',\n",
       " 'branco',\n",
       " 'sentado',\n",
       " 'em',\n",
       " 'um',\n",
       " 'banheiro',\n",
       " 'ao',\n",
       " 'lado',\n",
       " 'de',\n",
       " 'uma',\n",
       " 'lata',\n",
       " 'de',\n",
       " 'lixo.']"
      ]
     },
     "execution_count": 66,
     "metadata": {},
     "output_type": "execute_result"
    }
   ],
   "source": [
    "df_ravi[df_ravi['image_id']==331352]['gen_caption'].values[0].split(\" \")"
   ]
  },
  {
   "cell_type": "code",
   "execution_count": 49,
   "id": "8b923142",
   "metadata": {},
   "outputs": [],
   "source": [
    "from nltk.translate.bleu_score import sentence_bleu\n",
    "import numpy as np"
   ]
  },
  {
   "cell_type": "code",
   "execution_count": 50,
   "id": "3f65b240",
   "metadata": {},
   "outputs": [],
   "source": [
    "def bleu_calc(reference, candidate):    \n",
    "    return sentence_bleu(reference, candidate, weights=(1, 0, 0, 0)),sentence_bleu(reference, candidate, weights=(0.5, 0.5, 0, 0)),sentence_bleu(reference, candidate, weights=(0.33, 0.33, 0.33, 0)), sentence_bleu(reference, candidate, weights=(0.25, 0.25, 0.25, 0.25))"
   ]
  },
  {
   "cell_type": "code",
   "execution_count": 51,
   "id": "b7540a73",
   "metadata": {},
   "outputs": [],
   "source": [
    "def metrica_avaliacao(referencias, preditcs):\n",
    "    bleu_um = []\n",
    "    bleu_dois = []\n",
    "    bleu_tres = []\n",
    "    bleu_quatro = []\n",
    "    \n",
    "    for i in range(len(preditcs)):\n",
    "        \n",
    "        b1,b2,b3,b4 = bleu_calc(referencias[i], preditcs[i])\n",
    "        bleu_um.append(b1)\n",
    "        bleu_dois.append(b2)\n",
    "        bleu_tres.append(b3)\n",
    "        bleu_quatro.append(b4)\n",
    "\n",
    "    print(\"BLue 1:\")   \n",
    "    print(\"Média: \",np.average(bleu_um))    \n",
    "    print(\"Desvio Padrão\", np.std(bleu_um))\n",
    "    print()\n",
    "\n",
    "    print(\"BLue 2:\")   \n",
    "    print(\"Média: \",np.average(bleu_dois))    \n",
    "    print(\"Desvio Padrão\", np.std(bleu_dois))\n",
    "    print()\n",
    "\n",
    "    print(\"BLue 3:\")   \n",
    "    print(\"Média: \",np.average(bleu_tres))    \n",
    "    print(\"Desvio Padrão\", np.std(bleu_tres))\n",
    "    print()\n",
    "\n",
    "    print(\"BLue 4:\")   \n",
    "    print(\"Média: \",np.average(bleu_quatro))    \n",
    "    print(\"Desvio Padrão\", np.std(bleu_quatro))\n",
    "    print()"
   ]
  },
  {
   "cell_type": "code",
   "execution_count": 52,
   "id": "c55e2270",
   "metadata": {},
   "outputs": [
    {
     "name": "stdout",
     "output_type": "stream",
     "text": [
      "BLue 1:\n",
      "Média:  0.6642820757209363\n",
      "Desvio Padrão 0.17889699378404306\n",
      "\n",
      "BLue 2:\n",
      "Média:  0.49206908494228196\n",
      "Desvio Padrão 0.2354687505998106\n",
      "\n",
      "BLue 3:\n",
      "Média:  0.32955084804967244\n",
      "Desvio Padrão 0.28070830512544437\n",
      "\n",
      "BLue 4:\n",
      "Média:  0.20993775750215396\n",
      "Desvio Padrão 0.2749931066845848\n",
      "\n"
     ]
    }
   ],
   "source": [
    "metrica_avaliacao(referencias, preditcs)"
   ]
  },
  {
   "cell_type": "markdown",
   "id": "68ca6ac9",
   "metadata": {},
   "source": [
    "### Buscando as imagens especificas de teste"
   ]
  },
  {
   "cell_type": "code",
   "execution_count": 40,
   "id": "d6e5b432",
   "metadata": {},
   "outputs": [],
   "source": [
    "import json\n",
    "test_json  = \"coco2017/annotations/captions_val2017.json\"\n",
    "f = open(test_json)\n",
    "data_teste = json.load(f)\n",
    "f.close()"
   ]
  },
  {
   "cell_type": "code",
   "execution_count": 41,
   "id": "706c4457",
   "metadata": {},
   "outputs": [
    {
     "data": {
      "text/html": [
       "<div>\n",
       "<style scoped>\n",
       "    .dataframe tbody tr th:only-of-type {\n",
       "        vertical-align: middle;\n",
       "    }\n",
       "\n",
       "    .dataframe tbody tr th {\n",
       "        vertical-align: top;\n",
       "    }\n",
       "\n",
       "    .dataframe thead th {\n",
       "        text-align: right;\n",
       "    }\n",
       "</style>\n",
       "<table border=\"1\" class=\"dataframe\">\n",
       "  <thead>\n",
       "    <tr style=\"text-align: right;\">\n",
       "      <th></th>\n",
       "      <th>license</th>\n",
       "      <th>file_name</th>\n",
       "      <th>coco_url</th>\n",
       "      <th>height</th>\n",
       "      <th>width</th>\n",
       "      <th>date_captured</th>\n",
       "      <th>flickr_url</th>\n",
       "      <th>id</th>\n",
       "    </tr>\n",
       "  </thead>\n",
       "  <tbody>\n",
       "    <tr>\n",
       "      <th>0</th>\n",
       "      <td>4</td>\n",
       "      <td>000000397133.jpg</td>\n",
       "      <td>http://images.cocodataset.org/val2017/00000039...</td>\n",
       "      <td>427</td>\n",
       "      <td>640</td>\n",
       "      <td>2013-11-14 17:02:52</td>\n",
       "      <td>http://farm7.staticflickr.com/6116/6255196340_...</td>\n",
       "      <td>397133</td>\n",
       "    </tr>\n",
       "    <tr>\n",
       "      <th>1</th>\n",
       "      <td>1</td>\n",
       "      <td>000000037777.jpg</td>\n",
       "      <td>http://images.cocodataset.org/val2017/00000003...</td>\n",
       "      <td>230</td>\n",
       "      <td>352</td>\n",
       "      <td>2013-11-14 20:55:31</td>\n",
       "      <td>http://farm9.staticflickr.com/8429/7839199426_...</td>\n",
       "      <td>37777</td>\n",
       "    </tr>\n",
       "    <tr>\n",
       "      <th>2</th>\n",
       "      <td>4</td>\n",
       "      <td>000000252219.jpg</td>\n",
       "      <td>http://images.cocodataset.org/val2017/00000025...</td>\n",
       "      <td>428</td>\n",
       "      <td>640</td>\n",
       "      <td>2013-11-14 22:32:02</td>\n",
       "      <td>http://farm4.staticflickr.com/3446/3232237447_...</td>\n",
       "      <td>252219</td>\n",
       "    </tr>\n",
       "    <tr>\n",
       "      <th>3</th>\n",
       "      <td>1</td>\n",
       "      <td>000000087038.jpg</td>\n",
       "      <td>http://images.cocodataset.org/val2017/00000008...</td>\n",
       "      <td>480</td>\n",
       "      <td>640</td>\n",
       "      <td>2013-11-14 23:11:37</td>\n",
       "      <td>http://farm8.staticflickr.com/7355/8825114508_...</td>\n",
       "      <td>87038</td>\n",
       "    </tr>\n",
       "    <tr>\n",
       "      <th>4</th>\n",
       "      <td>6</td>\n",
       "      <td>000000174482.jpg</td>\n",
       "      <td>http://images.cocodataset.org/val2017/00000017...</td>\n",
       "      <td>388</td>\n",
       "      <td>640</td>\n",
       "      <td>2013-11-14 23:16:55</td>\n",
       "      <td>http://farm8.staticflickr.com/7020/6478877255_...</td>\n",
       "      <td>174482</td>\n",
       "    </tr>\n",
       "  </tbody>\n",
       "</table>\n",
       "</div>"
      ],
      "text/plain": [
       "   license         file_name  \\\n",
       "0        4  000000397133.jpg   \n",
       "1        1  000000037777.jpg   \n",
       "2        4  000000252219.jpg   \n",
       "3        1  000000087038.jpg   \n",
       "4        6  000000174482.jpg   \n",
       "\n",
       "                                            coco_url  height  width  \\\n",
       "0  http://images.cocodataset.org/val2017/00000039...     427    640   \n",
       "1  http://images.cocodataset.org/val2017/00000003...     230    352   \n",
       "2  http://images.cocodataset.org/val2017/00000025...     428    640   \n",
       "3  http://images.cocodataset.org/val2017/00000008...     480    640   \n",
       "4  http://images.cocodataset.org/val2017/00000017...     388    640   \n",
       "\n",
       "         date_captured                                         flickr_url  \\\n",
       "0  2013-11-14 17:02:52  http://farm7.staticflickr.com/6116/6255196340_...   \n",
       "1  2013-11-14 20:55:31  http://farm9.staticflickr.com/8429/7839199426_...   \n",
       "2  2013-11-14 22:32:02  http://farm4.staticflickr.com/3446/3232237447_...   \n",
       "3  2013-11-14 23:11:37  http://farm8.staticflickr.com/7355/8825114508_...   \n",
       "4  2013-11-14 23:16:55  http://farm8.staticflickr.com/7020/6478877255_...   \n",
       "\n",
       "       id  \n",
       "0  397133  \n",
       "1   37777  \n",
       "2  252219  \n",
       "3   87038  \n",
       "4  174482  "
      ]
     },
     "execution_count": 41,
     "metadata": {},
     "output_type": "execute_result"
    }
   ],
   "source": [
    "df_img_test = pd.DataFrame(data_teste['images'])\n",
    "df_img_test.head()"
   ]
  },
  {
   "cell_type": "code",
   "execution_count": 62,
   "id": "3c152042",
   "metadata": {},
   "outputs": [
    {
     "data": {
      "text/plain": [
       "'Uma estrada cheia de tráfego ao lado de um sinal de autoestrada.'"
      ]
     },
     "execution_count": 62,
     "metadata": {},
     "output_type": "execute_result"
    }
   ],
   "source": [
    "# carro na estrada\n",
    "file_name_imagem = \"000000001532.jpg\"\n",
    "df_ravi[df_ravi['image_id']==df_img_test[df_img_test[\"file_name\"]==file_name_imagem]['id'].values[0]]['gen_caption'].values[0]"
   ]
  },
  {
   "cell_type": "code",
   "execution_count": 64,
   "id": "63bed12f",
   "metadata": {},
   "outputs": [
    {
     "data": {
      "text/plain": [
       "'Uma mulher batendo uma bola de tênis com uma raquete de tênis.'"
      ]
     },
     "execution_count": 64,
     "metadata": {},
     "output_type": "execute_result"
    }
   ],
   "source": [
    "# mulher com raquete\n",
    "file_name_imagem = \"000000090284.jpg\"\n",
    "df_ravi[df_ravi['image_id']==df_img_test[df_img_test[\"file_name\"]==file_name_imagem]['id'].values[0]]['gen_caption'].values[0]"
   ]
  },
  {
   "cell_type": "code",
   "execution_count": 65,
   "id": "5011f068",
   "metadata": {},
   "outputs": [
    {
     "data": {
      "text/plain": [
       "'Um banheiro sujo com pia, vaso sanitário e banheira.'"
      ]
     },
     "execution_count": 65,
     "metadata": {},
     "output_type": "execute_result"
    }
   ],
   "source": [
    "# Banheiro\n",
    "file_name_imagem = \"000000363784.jpg\"\n",
    "df_ravi[df_ravi['image_id']==df_img_test[df_img_test[\"file_name\"]==file_name_imagem]['id'].values[0]]['gen_caption'].values[0]"
   ]
  },
  {
   "cell_type": "code",
   "execution_count": null,
   "id": "674f23e7",
   "metadata": {},
   "outputs": [],
   "source": [
    "#000000001532.jpg carro na estrada\n",
    "#000000090284.jpg mulher com raquete\n",
    "#000000363784.jpg"
   ]
  }
 ],
 "metadata": {
  "kernelspec": {
   "display_name": "Python 3 (ipykernel)",
   "language": "python",
   "name": "python3"
  },
  "language_info": {
   "codemirror_mode": {
    "name": "ipython",
    "version": 3
   },
   "file_extension": ".py",
   "mimetype": "text/x-python",
   "name": "python",
   "nbconvert_exporter": "python",
   "pygments_lexer": "ipython3",
   "version": "3.9.12"
  }
 },
 "nbformat": 4,
 "nbformat_minor": 5
}
