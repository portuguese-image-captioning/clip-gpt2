{
 "cells": [
  {
   "cell_type": "markdown",
   "id": "44af72a9-924c-4d32-a553-1915dba1acdf",
   "metadata": {},
   "source": [
    "# Begin"
   ]
  },
  {
   "cell_type": "code",
   "execution_count": null,
   "id": "59ffc9fb-e680-4d8b-92df-5e14a1c852ef",
   "metadata": {},
   "outputs": [],
   "source": [
    "!conda install pytorch torchvision torchaudio cudatoolkit=11.3 -c pytorch\n",
    "# !pip install torchvision "
   ]
  },
  {
   "cell_type": "code",
   "execution_count": null,
   "id": "fa3317b0-1336-4f5f-ab11-1d7d0ffc1b3e",
   "metadata": {},
   "outputs": [],
   "source": [
    "!pip install pycocoevalcap"
   ]
  },
  {
   "cell_type": "code",
   "execution_count": 1,
   "id": "cbdbf7ef-0302-44c7-9b4e-735a38618786",
   "metadata": {},
   "outputs": [
    {
     "name": "stderr",
     "output_type": "stream",
     "text": [
      "C:\\Users\\rbdf\\anaconda3\\envs\\tensor\\lib\\site-packages\\tqdm\\auto.py:22: TqdmWarning: IProgress not found. Please update jupyter and ipywidgets. See https://ipywidgets.readthedocs.io/en/stable/user_install.html\n",
      "  from .autonotebook import tqdm as notebook_tqdm\n"
     ]
    }
   ],
   "source": [
    "import pandas as pd\n",
    "import inspect\n",
    "import math\n",
    "import os\n",
    "import json\n",
    "\n",
    "import torch\n",
    "import torch.nn as nn\n",
    "import torch.nn.functional as F\n",
    "from tqdm import tqdm\n",
    "\n",
    "# import losses\n",
    "from pycocoevalcap.bleu.bleu import Bleu\n",
    "from pycocoevalcap.rouge.rouge import Rouge\n",
    "from pycocoevalcap.cider.cider import Cider\n",
    "from pycocoevalcap.meteor.meteor import Meteor\n",
    "from pycocotools.coco import COCO\n",
    "from pycocoevalcap.eval import COCOEvalCap\n"
   ]
  },
  {
   "cell_type": "code",
   "execution_count": 2,
   "id": "2b793dd2-5cd3-4104-86b4-500fe71db8dc",
   "metadata": {},
   "outputs": [],
   "source": [
    "def calc_scores(ref, hypo):\n",
    "    \"\"\"\n",
    "    ref, dictionary of reference sentences (id, sentence)\n",
    "    hypo, dictionary of hypothesis sentences (id, sentence)\n",
    "    score, dictionary of scores\n",
    "    \"\"\"\n",
    "    scorers = [\n",
    "        (Bleu(4), [\"Bleu_1\", \"Bleu_2\", \"Bleu_3\", \"Bleu_4\"]),\n",
    "        (Meteor(),\"METEOR\"),\n",
    "        (Rouge(), \"ROUGE_L\"),\n",
    "        (Cider(), \"CIDEr\")\n",
    "    ]\n",
    "    final_scores = {}\n",
    "    for scorer, method in scorers:\n",
    "        score, scores = scorer.compute_score(ref, hypo)\n",
    "        if type(score) == list:\n",
    "            for m, s in zip(method, score):\n",
    "                final_scores[m] = s\n",
    "        else:\n",
    "            final_scores[method] = score\n",
    "    return final_scores "
   ]
  },
  {
   "cell_type": "code",
   "execution_count": 3,
   "id": "14eaabc5-5c23-4a2c-becf-b422b558daf7",
   "metadata": {},
   "outputs": [],
   "source": [
    "def score(ref, hypo):\n",
    "    scorers = [\n",
    "        (Bleu(4),[\"Bleu_1\",\"Bleu_2\",\"Bleu_3\",\"Bleu_4\"])\n",
    "\n",
    "    ]\n",
    "    final_scores = {}\n",
    "    for scorer,method in scorers:\n",
    "        score,scores = scorer.compute_score(ref,hypo)\n",
    "        if type(score)==list:\n",
    "            for m,s in zip(method,score):\n",
    "                final_scores[m] = s\n",
    "        else:\n",
    "            final_scores[method] = score\n",
    "\n",
    "    return final_scores"
   ]
  },
  {
   "cell_type": "code",
   "execution_count": 10,
   "id": "21c6e1b7-4ff6-4ec0-ab96-dbd180fcb7f8",
   "metadata": {},
   "outputs": [],
   "source": [
    "path_original_pt = ('C:/Users/rbdf/Documents/Codes/Projeto3/Coco_translation/COCO_annotation_pt.json')\n",
    "path_generated = ('C:/Users/rbdf/Documents/Codes/Projeto3/Coco_translation/final/COCO_annotations_gen_beamsearch.csv')\n",
    "path_COCO_val = ('C:/Users/rbdf/Documents/Codes/Projeto3/Coco_translation/COCO_Annotations_val_pt.json')"
   ]
  },
  {
   "cell_type": "code",
   "execution_count": 8,
   "id": "a7c8ea18-72e8-422a-b7e1-f99656ca4e09",
   "metadata": {},
   "outputs": [
    {
     "data": {
      "text/html": [
       "<div>\n",
       "<style scoped>\n",
       "    .dataframe tbody tr th:only-of-type {\n",
       "        vertical-align: middle;\n",
       "    }\n",
       "\n",
       "    .dataframe tbody tr th {\n",
       "        vertical-align: top;\n",
       "    }\n",
       "\n",
       "    .dataframe thead th {\n",
       "        text-align: right;\n",
       "    }\n",
       "</style>\n",
       "<table border=\"1\" class=\"dataframe\">\n",
       "  <thead>\n",
       "    <tr style=\"text-align: right;\">\n",
       "      <th></th>\n",
       "      <th>Unnamed: 0</th>\n",
       "      <th>image_id</th>\n",
       "      <th>id</th>\n",
       "      <th>caption</th>\n",
       "      <th>caption_pt</th>\n",
       "    </tr>\n",
       "  </thead>\n",
       "  <tbody>\n",
       "    <tr>\n",
       "      <th>0</th>\n",
       "      <td>0</td>\n",
       "      <td>179765</td>\n",
       "      <td>38</td>\n",
       "      <td>A black Honda motorcycle parked in front of a ...</td>\n",
       "      <td>Uma motocicleta Honda preta estacionada em fre...</td>\n",
       "    </tr>\n",
       "    <tr>\n",
       "      <th>1</th>\n",
       "      <td>1</td>\n",
       "      <td>179765</td>\n",
       "      <td>182</td>\n",
       "      <td>A Honda motorcycle parked in a grass driveway</td>\n",
       "      <td>Uma motocicleta Honda estacionada em uma entra...</td>\n",
       "    </tr>\n",
       "    <tr>\n",
       "      <th>2</th>\n",
       "      <td>2</td>\n",
       "      <td>190236</td>\n",
       "      <td>401</td>\n",
       "      <td>An office cubicle with four different types of...</td>\n",
       "      <td>Um cubículo de escritório com quatro tipos dif...</td>\n",
       "    </tr>\n",
       "    <tr>\n",
       "      <th>3</th>\n",
       "      <td>3</td>\n",
       "      <td>331352</td>\n",
       "      <td>441</td>\n",
       "      <td>A small closed toilet in a cramped space.</td>\n",
       "      <td>Um pequeno banheiro fechado em um espaço apert...</td>\n",
       "    </tr>\n",
       "    <tr>\n",
       "      <th>4</th>\n",
       "      <td>4</td>\n",
       "      <td>517069</td>\n",
       "      <td>447</td>\n",
       "      <td>Two women waiting at a bench next to a street.</td>\n",
       "      <td>Duas mulheres esperando em um banco ao lado de...</td>\n",
       "    </tr>\n",
       "    <tr>\n",
       "      <th>...</th>\n",
       "      <td>...</td>\n",
       "      <td>...</td>\n",
       "      <td>...</td>\n",
       "      <td>...</td>\n",
       "      <td>...</td>\n",
       "    </tr>\n",
       "    <tr>\n",
       "      <th>25009</th>\n",
       "      <td>25009</td>\n",
       "      <td>9590</td>\n",
       "      <td>821635</td>\n",
       "      <td>A group of men sipping drinks and talking at a...</td>\n",
       "      <td>Um grupo de homens bebendo bebidas e conversan...</td>\n",
       "    </tr>\n",
       "    <tr>\n",
       "      <th>25010</th>\n",
       "      <td>25010</td>\n",
       "      <td>84664</td>\n",
       "      <td>822557</td>\n",
       "      <td>A plate of food with some eggs, potatoes, brea...</td>\n",
       "      <td>Um prato de comida com alguns ovos, batatas, p...</td>\n",
       "    </tr>\n",
       "    <tr>\n",
       "      <th>25011</th>\n",
       "      <td>25011</td>\n",
       "      <td>331569</td>\n",
       "      <td>824852</td>\n",
       "      <td>The strawberries was sitting beside the tall g...</td>\n",
       "      <td>Os morangos estavam sentados ao lado do copo a...</td>\n",
       "    </tr>\n",
       "    <tr>\n",
       "      <th>25012</th>\n",
       "      <td>25012</td>\n",
       "      <td>231237</td>\n",
       "      <td>825902</td>\n",
       "      <td>A bunch of small red flowers in a barnacle enc...</td>\n",
       "      <td>Um monte de pequenas flores vermelhas em um va...</td>\n",
       "    </tr>\n",
       "    <tr>\n",
       "      <th>25013</th>\n",
       "      <td>25013</td>\n",
       "      <td>386134</td>\n",
       "      <td>826793</td>\n",
       "      <td>Food is in a styrofoam take out container.</td>\n",
       "      <td>A comida está em um recipiente de isopor.</td>\n",
       "    </tr>\n",
       "  </tbody>\n",
       "</table>\n",
       "<p>25014 rows × 5 columns</p>\n",
       "</div>"
      ],
      "text/plain": [
       "       Unnamed: 0  image_id      id  \\\n",
       "0               0    179765      38   \n",
       "1               1    179765     182   \n",
       "2               2    190236     401   \n",
       "3               3    331352     441   \n",
       "4               4    517069     447   \n",
       "...           ...       ...     ...   \n",
       "25009       25009      9590  821635   \n",
       "25010       25010     84664  822557   \n",
       "25011       25011    331569  824852   \n",
       "25012       25012    231237  825902   \n",
       "25013       25013    386134  826793   \n",
       "\n",
       "                                                 caption  \\\n",
       "0      A black Honda motorcycle parked in front of a ...   \n",
       "1          A Honda motorcycle parked in a grass driveway   \n",
       "2      An office cubicle with four different types of...   \n",
       "3              A small closed toilet in a cramped space.   \n",
       "4         Two women waiting at a bench next to a street.   \n",
       "...                                                  ...   \n",
       "25009  A group of men sipping drinks and talking at a...   \n",
       "25010  A plate of food with some eggs, potatoes, brea...   \n",
       "25011  The strawberries was sitting beside the tall g...   \n",
       "25012  A bunch of small red flowers in a barnacle enc...   \n",
       "25013         Food is in a styrofoam take out container.   \n",
       "\n",
       "                                              caption_pt  \n",
       "0      Uma motocicleta Honda preta estacionada em fre...  \n",
       "1      Uma motocicleta Honda estacionada em uma entra...  \n",
       "2      Um cubículo de escritório com quatro tipos dif...  \n",
       "3      Um pequeno banheiro fechado em um espaço apert...  \n",
       "4      Duas mulheres esperando em um banco ao lado de...  \n",
       "...                                                  ...  \n",
       "25009  Um grupo de homens bebendo bebidas e conversan...  \n",
       "25010  Um prato de comida com alguns ovos, batatas, p...  \n",
       "25011  Os morangos estavam sentados ao lado do copo a...  \n",
       "25012  Um monte de pequenas flores vermelhas em um va...  \n",
       "25013          A comida está em um recipiente de isopor.  \n",
       "\n",
       "[25014 rows x 5 columns]"
      ]
     },
     "execution_count": 8,
     "metadata": {},
     "output_type": "execute_result"
    }
   ],
   "source": [
    "df_COCO_val = pd.read_json(path_COCO_val)\n",
    "df_COCO_val"
   ]
  },
  {
   "cell_type": "code",
   "execution_count": 11,
   "id": "3154c511-efbc-47e3-9357-ba035f7fc9be",
   "metadata": {},
   "outputs": [
    {
     "data": {
      "text/html": [
       "<div>\n",
       "<style scoped>\n",
       "    .dataframe tbody tr th:only-of-type {\n",
       "        vertical-align: middle;\n",
       "    }\n",
       "\n",
       "    .dataframe tbody tr th {\n",
       "        vertical-align: top;\n",
       "    }\n",
       "\n",
       "    .dataframe thead th {\n",
       "        text-align: right;\n",
       "    }\n",
       "</style>\n",
       "<table border=\"1\" class=\"dataframe\">\n",
       "  <thead>\n",
       "    <tr style=\"text-align: right;\">\n",
       "      <th></th>\n",
       "      <th>Unnamed: 0.1</th>\n",
       "      <th>Unnamed: 0</th>\n",
       "      <th>image_id</th>\n",
       "      <th>id</th>\n",
       "      <th>caption</th>\n",
       "      <th>caption_pt</th>\n",
       "      <th>gen_caption</th>\n",
       "    </tr>\n",
       "  </thead>\n",
       "  <tbody>\n",
       "    <tr>\n",
       "      <th>0</th>\n",
       "      <td>0</td>\n",
       "      <td>0</td>\n",
       "      <td>179765</td>\n",
       "      <td>38</td>\n",
       "      <td>A black Honda motorcycle parked in front of a ...</td>\n",
       "      <td>Uma motocicleta Honda preta estacionada em fre...</td>\n",
       "      <td>Uma motocicleta preta estacionada em um quinta...</td>\n",
       "    </tr>\n",
       "    <tr>\n",
       "      <th>1</th>\n",
       "      <td>1</td>\n",
       "      <td>1</td>\n",
       "      <td>179765</td>\n",
       "      <td>182</td>\n",
       "      <td>A Honda motorcycle parked in a grass driveway</td>\n",
       "      <td>Uma motocicleta Honda estacionada em uma entra...</td>\n",
       "      <td>Uma motocicleta preta estacionada em um quinta...</td>\n",
       "    </tr>\n",
       "    <tr>\n",
       "      <th>2</th>\n",
       "      <td>2</td>\n",
       "      <td>2</td>\n",
       "      <td>190236</td>\n",
       "      <td>401</td>\n",
       "      <td>An office cubicle with four different types of...</td>\n",
       "      <td>Um cubículo de escritório com quatro tipos dif...</td>\n",
       "      <td>Uma mesa de computador com dois monitores e um...</td>\n",
       "    </tr>\n",
       "    <tr>\n",
       "      <th>3</th>\n",
       "      <td>3</td>\n",
       "      <td>3</td>\n",
       "      <td>331352</td>\n",
       "      <td>441</td>\n",
       "      <td>A small closed toilet in a cramped space.</td>\n",
       "      <td>Um pequeno banheiro fechado em um espaço apert...</td>\n",
       "      <td>Um banheiro branco com um vaso sanitário branc...</td>\n",
       "    </tr>\n",
       "    <tr>\n",
       "      <th>4</th>\n",
       "      <td>4</td>\n",
       "      <td>4</td>\n",
       "      <td>517069</td>\n",
       "      <td>447</td>\n",
       "      <td>Two women waiting at a bench next to a street.</td>\n",
       "      <td>Duas mulheres esperando em um banco ao lado de...</td>\n",
       "      <td>Uma mulher sentada em um banco de parque olhan...</td>\n",
       "    </tr>\n",
       "    <tr>\n",
       "      <th>...</th>\n",
       "      <td>...</td>\n",
       "      <td>...</td>\n",
       "      <td>...</td>\n",
       "      <td>...</td>\n",
       "      <td>...</td>\n",
       "      <td>...</td>\n",
       "      <td>...</td>\n",
       "    </tr>\n",
       "    <tr>\n",
       "      <th>25009</th>\n",
       "      <td>25009</td>\n",
       "      <td>25009</td>\n",
       "      <td>9590</td>\n",
       "      <td>821635</td>\n",
       "      <td>A group of men sipping drinks and talking at a...</td>\n",
       "      <td>Um grupo de homens bebendo bebidas e conversan...</td>\n",
       "      <td>Um grupo de homens sentados em uma mesa de mad...</td>\n",
       "    </tr>\n",
       "    <tr>\n",
       "      <th>25010</th>\n",
       "      <td>25010</td>\n",
       "      <td>25010</td>\n",
       "      <td>84664</td>\n",
       "      <td>822557</td>\n",
       "      <td>A plate of food with some eggs, potatoes, brea...</td>\n",
       "      <td>Um prato de comida com alguns ovos, batatas, p...</td>\n",
       "      <td>Um prato branco coberto com diferentes tipos d...</td>\n",
       "    </tr>\n",
       "    <tr>\n",
       "      <th>25011</th>\n",
       "      <td>25011</td>\n",
       "      <td>25011</td>\n",
       "      <td>331569</td>\n",
       "      <td>824852</td>\n",
       "      <td>The strawberries was sitting beside the tall g...</td>\n",
       "      <td>Os morangos estavam sentados ao lado do copo a...</td>\n",
       "      <td>Um smoothie de banana e morango está em um prato.</td>\n",
       "    </tr>\n",
       "    <tr>\n",
       "      <th>25012</th>\n",
       "      <td>25012</td>\n",
       "      <td>25012</td>\n",
       "      <td>231237</td>\n",
       "      <td>825902</td>\n",
       "      <td>A bunch of small red flowers in a barnacle enc...</td>\n",
       "      <td>Um monte de pequenas flores vermelhas em um va...</td>\n",
       "      <td>Um vaso de flores em uma mesa com uma flor.</td>\n",
       "    </tr>\n",
       "    <tr>\n",
       "      <th>25013</th>\n",
       "      <td>25013</td>\n",
       "      <td>25013</td>\n",
       "      <td>386134</td>\n",
       "      <td>826793</td>\n",
       "      <td>Food is in a styrofoam take out container.</td>\n",
       "      <td>A comida está em um recipiente de isopor.</td>\n",
       "      <td>Um prato de comida com diferentes tipos de ali...</td>\n",
       "    </tr>\n",
       "  </tbody>\n",
       "</table>\n",
       "<p>25014 rows × 7 columns</p>\n",
       "</div>"
      ],
      "text/plain": [
       "       Unnamed: 0.1  Unnamed: 0  image_id      id  \\\n",
       "0                 0           0    179765      38   \n",
       "1                 1           1    179765     182   \n",
       "2                 2           2    190236     401   \n",
       "3                 3           3    331352     441   \n",
       "4                 4           4    517069     447   \n",
       "...             ...         ...       ...     ...   \n",
       "25009         25009       25009      9590  821635   \n",
       "25010         25010       25010     84664  822557   \n",
       "25011         25011       25011    331569  824852   \n",
       "25012         25012       25012    231237  825902   \n",
       "25013         25013       25013    386134  826793   \n",
       "\n",
       "                                                 caption  \\\n",
       "0      A black Honda motorcycle parked in front of a ...   \n",
       "1          A Honda motorcycle parked in a grass driveway   \n",
       "2      An office cubicle with four different types of...   \n",
       "3              A small closed toilet in a cramped space.   \n",
       "4         Two women waiting at a bench next to a street.   \n",
       "...                                                  ...   \n",
       "25009  A group of men sipping drinks and talking at a...   \n",
       "25010  A plate of food with some eggs, potatoes, brea...   \n",
       "25011  The strawberries was sitting beside the tall g...   \n",
       "25012  A bunch of small red flowers in a barnacle enc...   \n",
       "25013         Food is in a styrofoam take out container.   \n",
       "\n",
       "                                              caption_pt  \\\n",
       "0      Uma motocicleta Honda preta estacionada em fre...   \n",
       "1      Uma motocicleta Honda estacionada em uma entra...   \n",
       "2      Um cubículo de escritório com quatro tipos dif...   \n",
       "3      Um pequeno banheiro fechado em um espaço apert...   \n",
       "4      Duas mulheres esperando em um banco ao lado de...   \n",
       "...                                                  ...   \n",
       "25009  Um grupo de homens bebendo bebidas e conversan...   \n",
       "25010  Um prato de comida com alguns ovos, batatas, p...   \n",
       "25011  Os morangos estavam sentados ao lado do copo a...   \n",
       "25012  Um monte de pequenas flores vermelhas em um va...   \n",
       "25013          A comida está em um recipiente de isopor.   \n",
       "\n",
       "                                             gen_caption  \n",
       "0      Uma motocicleta preta estacionada em um quinta...  \n",
       "1      Uma motocicleta preta estacionada em um quinta...  \n",
       "2      Uma mesa de computador com dois monitores e um...  \n",
       "3      Um banheiro branco com um vaso sanitário branc...  \n",
       "4      Uma mulher sentada em um banco de parque olhan...  \n",
       "...                                                  ...  \n",
       "25009  Um grupo de homens sentados em uma mesa de mad...  \n",
       "25010  Um prato branco coberto com diferentes tipos d...  \n",
       "25011  Um smoothie de banana e morango está em um prato.  \n",
       "25012        Um vaso de flores em uma mesa com uma flor.  \n",
       "25013  Um prato de comida com diferentes tipos de ali...  \n",
       "\n",
       "[25014 rows x 7 columns]"
      ]
     },
     "execution_count": 11,
     "metadata": {},
     "output_type": "execute_result"
    }
   ],
   "source": [
    "df_gen = pd.read_csv(path_generated)\n",
    "df_gen"
   ]
  },
  {
   "cell_type": "code",
   "execution_count": null,
   "id": "acdbe208-7bae-45c6-b307-f7d6e0cdc22b",
   "metadata": {},
   "outputs": [],
   "source": [
    "# df_gen['caption_pt'][0]\n",
    "score(df_gen['caption_pt'][0], df_gen['gen_caption'][0] )"
   ]
  },
  {
   "cell_type": "code",
   "execution_count": null,
   "id": "c3a7c784-f47f-402b-abe2-0e9d75a4235f",
   "metadata": {},
   "outputs": [],
   "source": [
    "type(df_gen['caption_pt'][0])"
   ]
  },
  {
   "cell_type": "code",
   "execution_count": 12,
   "id": "dd923adf-a9c7-4975-97e6-777345fa62dd",
   "metadata": {},
   "outputs": [
    {
     "data": {
      "text/plain": [
       "'./annotations/captions_val2014.json'"
      ]
     },
     "execution_count": 12,
     "metadata": {},
     "output_type": "execute_result"
    }
   ],
   "source": [
    "dataDir='.'\n",
    "dataType='val2014'\n",
    "algName = 'fakecap'\n",
    "annFile='%s/annotations/captions_%s.json'%(dataDir,dataType)\n",
    "annFile"
   ]
  },
  {
   "cell_type": "code",
   "execution_count": 64,
   "id": "ddcf296c-c691-41a4-8ebf-b8b1d4f6452a",
   "metadata": {},
   "outputs": [
    {
     "data": {
      "text/plain": [
       "'./results/captions_val2014_fakecap_results.json'"
      ]
     },
     "execution_count": 64,
     "metadata": {},
     "output_type": "execute_result"
    }
   ],
   "source": [
    "subtypes=['results', 'evalImgs', 'eval']\n",
    "[resFile, evalImgsFile, evalFile]= \\\n",
    "['%s/results/captions_%s_%s_%s.json'%(dataDir,dataType,algName,subtype) for subtype in subtypes]\n",
    "resFile"
   ]
  },
  {
   "cell_type": "code",
   "execution_count": null,
   "id": "fc009a22-a8dd-4f9e-a181-fdf59806ef69",
   "metadata": {},
   "outputs": [],
   "source": [
    "original_COCO_path = 'C:/Users/rbdf/Documents/Codes/Projeto3/Coco_translation/captions_train2017.json'\n",
    "with open(original_COCO_path) as json_data:\n",
    "    COCO_original = json.load(json_data)\n",
    "COCO_original.keys()"
   ]
  },
  {
   "cell_type": "code",
   "execution_count": null,
   "id": "55c7a1e6-460b-4224-83c2-d00b5f323cc3",
   "metadata": {},
   "outputs": [],
   "source": []
  },
  {
   "cell_type": "code",
   "execution_count": null,
   "id": "66add0d1-35f8-4a70-8403-e89d42007a3b",
   "metadata": {},
   "outputs": [],
   "source": [
    "# path_original_pt\n",
    "# with open(path_original_pt) as json_data:\n",
    "#     COCO_original_pt = json.load(json_data)\n",
    "# COCO_original_pt.keys()"
   ]
  },
  {
   "cell_type": "markdown",
   "id": "d3964bb9-a284-4b59-8b72-1ce65111400c",
   "metadata": {},
   "source": [
    "# Gerando json para as métricas"
   ]
  },
  {
   "cell_type": "markdown",
   "id": "7299129f-702c-424e-ba17-e49fcb9ed4a1",
   "metadata": {},
   "source": [
    "Mudando o formato dos dataset para o Original do COCO"
   ]
  },
  {
   "cell_type": "code",
   "execution_count": 13,
   "id": "796fab87-bd4d-4115-82e1-555c6ceae3ab",
   "metadata": {},
   "outputs": [],
   "source": [
    "path_val_coco_original = 'C:/Users/rbdf/Documents/Codes/Projeto3/Coco_translation/Original/captions_val2017.json'"
   ]
  },
  {
   "cell_type": "code",
   "execution_count": 54,
   "id": "c6c61264-8a7e-44f4-9107-67163c5d0d6d",
   "metadata": {},
   "outputs": [],
   "source": [
    "with open(path_val_coco_original) as json_data:\n",
    "    coco_val_original = json.load(json_data)"
   ]
  },
  {
   "cell_type": "code",
   "execution_count": 55,
   "id": "c1eea907-40e4-4535-a13d-72dc1e8d5932",
   "metadata": {},
   "outputs": [
    {
     "data": {
      "text/plain": [
       "dict_keys(['info', 'licenses', 'images', 'annotations'])"
      ]
     },
     "execution_count": 55,
     "metadata": {},
     "output_type": "execute_result"
    }
   ],
   "source": [
    "coco_val_original.keys()\n"
   ]
  },
  {
   "cell_type": "code",
   "execution_count": 56,
   "id": "3012776e-00db-4a6a-92b1-859b7df068f7",
   "metadata": {},
   "outputs": [
    {
     "data": {
      "text/plain": [
       "{'image_id': 179765,\n",
       " 'id': 38,\n",
       " 'caption': 'A black Honda motorcycle parked in front of a garage.'}"
      ]
     },
     "execution_count": 56,
     "metadata": {},
     "output_type": "execute_result"
    }
   ],
   "source": [
    "coco_val_original['annotations'][0]"
   ]
  },
  {
   "cell_type": "code",
   "execution_count": 57,
   "id": "d4a11f3e-b437-49bb-a8b4-70b1af364928",
   "metadata": {},
   "outputs": [],
   "source": [
    "import copy\n",
    "\n",
    "coco_val_gen = copy.deepcopy(coco_val_original)\n",
    "coco_val_pt = copy.deepcopy(coco_val_original)"
   ]
  },
  {
   "cell_type": "code",
   "execution_count": 58,
   "id": "58539769-84c3-410e-af76-ace140f082df",
   "metadata": {},
   "outputs": [],
   "source": [
    "for i in range(len(coco_val_original['annotations'])):\n",
    "    coco_val_gen['annotations'][i]['caption'] = df_gen['gen_caption'].iloc[i]\n",
    "    coco_val_pt['annotations'][i]['caption'] = df_gen['caption_pt'].iloc[i]"
   ]
  },
  {
   "cell_type": "code",
   "execution_count": 59,
   "id": "e43a8282-6223-4a7b-9377-0e198b11a4de",
   "metadata": {},
   "outputs": [
    {
     "data": {
      "text/plain": [
       "{'image_id': 179765,\n",
       " 'id': 38,\n",
       " 'caption': 'Uma motocicleta preta estacionada em um quintal com um carro lateral.'}"
      ]
     },
     "execution_count": 59,
     "metadata": {},
     "output_type": "execute_result"
    }
   ],
   "source": [
    "# df_gen['gen_caption'].iloc[0]\n",
    "coco_val_gen['annotations'][0]"
   ]
  },
  {
   "cell_type": "code",
   "execution_count": 60,
   "id": "4d9ad9ce-cd39-4514-b150-df05342f80c5",
   "metadata": {},
   "outputs": [
    {
     "data": {
      "text/plain": [
       "{'image_id': 179765,\n",
       " 'id': 38,\n",
       " 'caption': 'Uma motocicleta Honda preta estacionada em frente a uma garagem.'}"
      ]
     },
     "execution_count": 60,
     "metadata": {},
     "output_type": "execute_result"
    }
   ],
   "source": [
    "coco_val_pt['annotations'][0]"
   ]
  },
  {
   "cell_type": "code",
   "execution_count": 84,
   "id": "11778040-8be1-48ff-a764-f0a13e7c2ce8",
   "metadata": {},
   "outputs": [],
   "source": [
    "# import json\n",
    "\n",
    "# with open('COCO_val_gen.json', 'w') as fp:\n",
    "#     json.dump(coco_val_gen, fp)\n",
    "    \n",
    "# with open('COCO_val_pt.json', 'w') as fp:\n",
    "#     json.dump(coco_val_pt, fp)\n",
    "\n",
    "# with open('captions_val2014_fakecap_results.json', 'r') as j:\n",
    "     # contents = json.loads(j.read())\n",
    "    \n",
    "# with open(\"captions_val2014_fakecap_results.json\", encoding='utf-8', errors='ignore') as json_data:\n",
    "     # data = json.load(json_data, strict=False)\n",
    "    \n",
    "# with open(\"captions_val2014_fakecap_results.json\", \"r\") as read_file:\n",
    "   # data = json.load(read_file)\n",
    "    \n",
    "with open('captions_val2014_fakecap_results.json', 'r') as j:\n",
    "     contents = json.loads(j.read())\n",
    "     # print(contents)"
   ]
  },
  {
   "cell_type": "code",
   "execution_count": 86,
   "id": "1e071031-57cf-4760-a2bc-c10f0ce773e4",
   "metadata": {},
   "outputs": [
    {
     "data": {
      "text/plain": [
       "{'image_id': 404464,\n",
       " 'caption': 'black and white photo of a man standing in front of a building'}"
      ]
     },
     "execution_count": 86,
     "metadata": {},
     "output_type": "execute_result"
    }
   ],
   "source": [
    "contents[0]"
   ]
  },
  {
   "cell_type": "markdown",
   "id": "5e7be4c3-295e-4600-8102-c24902fd1f9b",
   "metadata": {},
   "source": [
    "# Testing functions"
   ]
  },
  {
   "cell_type": "code",
   "execution_count": 70,
   "id": "0fcc33b4-d517-40e7-ad60-d72eeb0f0baf",
   "metadata": {},
   "outputs": [],
   "source": [
    "# score(coco_val_pt['annotations'][0], coco_val_gen['annotations'][0])"
   ]
  },
  {
   "cell_type": "code",
   "execution_count": null,
   "id": "5cb5a183-5767-48d8-9bce-0db2ccbacdea",
   "metadata": {},
   "outputs": [],
   "source": []
  },
  {
   "cell_type": "code",
   "execution_count": 71,
   "id": "12c00431-a070-45f2-811d-3ab775e88908",
   "metadata": {},
   "outputs": [
    {
     "name": "stdout",
     "output_type": "stream",
     "text": [
      "loading annotations into memory...\n",
      "Done (t=0.03s)\n",
      "creating index...\n",
      "index created!\n",
      "Loading and preparing results...\n",
      "DONE (t=0.01s)\n",
      "creating index...\n",
      "index created!\n"
     ]
    }
   ],
   "source": [
    "coco = COCO('COCO_val_pt.json')\n",
    "cocoRes = coco.loadRes(coco_val_gen['annotations'])"
   ]
  },
  {
   "cell_type": "code",
   "execution_count": 92,
   "id": "46f5bff7-be40-43fa-b74a-16795b49d1be",
   "metadata": {},
   "outputs": [
    {
     "data": {
      "text/plain": [
       "5000"
      ]
     },
     "execution_count": 92,
     "metadata": {},
     "output_type": "execute_result"
    }
   ],
   "source": [
    "# create cocoEval object by taking coco and cocoRes\n",
    "cocoEval = COCOEvalCap(coco, cocoRes)\n",
    "# evaluate on a subset of images by setting\n",
    "# cocoEval.params['image_id'] = cocoRes.getImgIds()\n",
    "# please remove this line when evaluating the full validation set\n",
    "cocoEval.params['image_id'] = cocoRes.getImgIds()\n",
    "len(cocoEval.params['image_id'])\n",
    "\n",
    "# evaluate results\n",
    "# SPICE will take a few minutes the first time, but speeds up due to caching\n",
    "# cocoEval.evaluate()"
   ]
  },
  {
   "cell_type": "code",
   "execution_count": 75,
   "id": "e629f046-6ead-4419-a407-b38775a9d8f3",
   "metadata": {},
   "outputs": [],
   "source": [
    "# print output evaluation scores\n",
    "for metric, score in cocoEval.eval.items():\n",
    "    print(metric, score)"
   ]
  },
  {
   "cell_type": "code",
   "execution_count": 98,
   "id": "8a7aa12b-f852-4fa1-932d-d104981cb36c",
   "metadata": {},
   "outputs": [
    {
     "data": {
      "text/plain": [
       "{'image_id': 179765,\n",
       " 'id': 38,\n",
       " 'caption': 'Uma motocicleta Honda preta estacionada em frente a uma garagem.'}"
      ]
     },
     "execution_count": 98,
     "metadata": {},
     "output_type": "execute_result"
    }
   ],
   "source": [
    "coco_val_pt['annotations'][0]['caption']"
   ]
  },
  {
   "cell_type": "code",
   "execution_count": 104,
   "id": "c6889184-87cf-4f89-849d-a5a56f7e4ef6",
   "metadata": {},
   "outputs": [
    {
     "ename": "AttributeError",
     "evalue": "'list' object has no attribute 'keys'",
     "output_type": "error",
     "traceback": [
      "\u001b[1;31m---------------------------------------------------------------------------\u001b[0m",
      "\u001b[1;31mAttributeError\u001b[0m                            Traceback (most recent call last)",
      "Input \u001b[1;32mIn [104]\u001b[0m, in \u001b[0;36m<cell line: 1>\u001b[1;34m()\u001b[0m\n\u001b[1;32m----> 1\u001b[0m \u001b[43mscore\u001b[49m\u001b[43m(\u001b[49m\u001b[43mcontents\u001b[49m\u001b[43m,\u001b[49m\u001b[43mcontents\u001b[49m\u001b[43m)\u001b[49m\n",
      "Input \u001b[1;32mIn [3]\u001b[0m, in \u001b[0;36mscore\u001b[1;34m(ref, hypo)\u001b[0m\n\u001b[0;32m      6\u001b[0m final_scores \u001b[38;5;241m=\u001b[39m {}\n\u001b[0;32m      7\u001b[0m \u001b[38;5;28;01mfor\u001b[39;00m scorer,method \u001b[38;5;129;01min\u001b[39;00m scorers:\n\u001b[1;32m----> 8\u001b[0m     score,scores \u001b[38;5;241m=\u001b[39m \u001b[43mscorer\u001b[49m\u001b[38;5;241;43m.\u001b[39;49m\u001b[43mcompute_score\u001b[49m\u001b[43m(\u001b[49m\u001b[43mref\u001b[49m\u001b[43m,\u001b[49m\u001b[43mhypo\u001b[49m\u001b[43m)\u001b[49m\n\u001b[0;32m      9\u001b[0m     \u001b[38;5;28;01mif\u001b[39;00m \u001b[38;5;28mtype\u001b[39m(score)\u001b[38;5;241m==\u001b[39m\u001b[38;5;28mlist\u001b[39m:\n\u001b[0;32m     10\u001b[0m         \u001b[38;5;28;01mfor\u001b[39;00m m,s \u001b[38;5;129;01min\u001b[39;00m \u001b[38;5;28mzip\u001b[39m(method,score):\n",
      "File \u001b[1;32m~\\anaconda3\\envs\\tensor\\lib\\site-packages\\pycocoevalcap\\bleu\\bleu.py:23\u001b[0m, in \u001b[0;36mBleu.compute_score\u001b[1;34m(self, gts, res, verbose)\u001b[0m\n\u001b[0;32m     21\u001b[0m \u001b[38;5;28;01mdef\u001b[39;00m \u001b[38;5;21mcompute_score\u001b[39m(\u001b[38;5;28mself\u001b[39m, gts, res, verbose\u001b[38;5;241m=\u001b[39m\u001b[38;5;241m1\u001b[39m):\n\u001b[1;32m---> 23\u001b[0m     \u001b[38;5;28;01massert\u001b[39;00m(\u001b[43mgts\u001b[49m\u001b[38;5;241;43m.\u001b[39;49m\u001b[43mkeys\u001b[49m() \u001b[38;5;241m==\u001b[39m res\u001b[38;5;241m.\u001b[39mkeys())\n\u001b[0;32m     24\u001b[0m     imgIds \u001b[38;5;241m=\u001b[39m gts\u001b[38;5;241m.\u001b[39mkeys()\n\u001b[0;32m     26\u001b[0m     bleu_scorer \u001b[38;5;241m=\u001b[39m BleuScorer(n\u001b[38;5;241m=\u001b[39m\u001b[38;5;28mself\u001b[39m\u001b[38;5;241m.\u001b[39m_n)\n",
      "\u001b[1;31mAttributeError\u001b[0m: 'list' object has no attribute 'keys'"
     ]
    }
   ],
   "source": [
    "score(contents,contents)"
   ]
  },
  {
   "cell_type": "code",
   "execution_count": 106,
   "id": "cdc61682-15c1-4e14-bccd-909e69a7a38b",
   "metadata": {},
   "outputs": [
    {
     "name": "stdout",
     "output_type": "stream",
     "text": [
      "computing METEOR score...\n"
     ]
    },
    {
     "ename": "AttributeError",
     "evalue": "'list' object has no attribute 'keys'",
     "output_type": "error",
     "traceback": [
      "\u001b[1;31m---------------------------------------------------------------------------\u001b[0m",
      "\u001b[1;31mAttributeError\u001b[0m                            Traceback (most recent call last)",
      "Input \u001b[1;32mIn [106]\u001b[0m, in \u001b[0;36m<cell line: 8>\u001b[1;34m()\u001b[0m\n\u001b[0;32m      8\u001b[0m \u001b[38;5;28;01mfor\u001b[39;00m scorer, method \u001b[38;5;129;01min\u001b[39;00m scorers:\n\u001b[0;32m      9\u001b[0m     \u001b[38;5;28mprint\u001b[39m(\u001b[38;5;124m'\u001b[39m\u001b[38;5;124mcomputing \u001b[39m\u001b[38;5;132;01m%s\u001b[39;00m\u001b[38;5;124m score...\u001b[39m\u001b[38;5;124m'\u001b[39m \u001b[38;5;241m%\u001b[39m (scorer\u001b[38;5;241m.\u001b[39mmethod()))\n\u001b[1;32m---> 10\u001b[0m     score, scores \u001b[38;5;241m=\u001b[39m \u001b[43mscorer\u001b[49m\u001b[38;5;241;43m.\u001b[39;49m\u001b[43mcompute_score\u001b[49m\u001b[43m(\u001b[49m\u001b[43mcontents\u001b[49m\u001b[43m,\u001b[49m\u001b[43m \u001b[49m\u001b[43mcontents\u001b[49m\u001b[43m)\u001b[49m\n",
      "File \u001b[1;32m~\\anaconda3\\envs\\tensor\\lib\\site-packages\\pycocoevalcap\\meteor\\meteor.py:29\u001b[0m, in \u001b[0;36mMeteor.compute_score\u001b[1;34m(self, gts, res)\u001b[0m\n\u001b[0;32m     28\u001b[0m \u001b[38;5;28;01mdef\u001b[39;00m \u001b[38;5;21mcompute_score\u001b[39m(\u001b[38;5;28mself\u001b[39m, gts, res):\n\u001b[1;32m---> 29\u001b[0m     \u001b[38;5;28;01massert\u001b[39;00m(\u001b[43mgts\u001b[49m\u001b[38;5;241;43m.\u001b[39;49m\u001b[43mkeys\u001b[49m() \u001b[38;5;241m==\u001b[39m res\u001b[38;5;241m.\u001b[39mkeys())\n\u001b[0;32m     30\u001b[0m     imgIds \u001b[38;5;241m=\u001b[39m gts\u001b[38;5;241m.\u001b[39mkeys()\n\u001b[0;32m     31\u001b[0m     scores \u001b[38;5;241m=\u001b[39m []\n",
      "\u001b[1;31mAttributeError\u001b[0m: 'list' object has no attribute 'keys'"
     ]
    }
   ],
   "source": [
    "scorers = [\n",
    "        # (Bleu(4), [\"Bleu_1\", \"Bleu_2\", \"Bleu_3\", \"Bleu_4\"]),\n",
    "        (Meteor(), \"METEOR\"),\n",
    "        # (Rouge(), \"ROUGE_L\"),\n",
    "        # (Cider(), \"CIDEr\")        \n",
    "    ]\n",
    "score_dict = {}\n",
    "for scorer, method in scorers:\n",
    "    print('computing %s score...' % (scorer.method()))\n",
    "    score, scores = scorer.compute_score(contents, contents)"
   ]
  },
  {
   "cell_type": "code",
   "execution_count": null,
   "id": "6428d873-3af1-49ac-a08b-3a17c1d0b86c",
   "metadata": {},
   "outputs": [],
   "source": [
    "Meteor().compute_score(contents[0], contents[0])"
   ]
  },
  {
   "cell_type": "code",
   "execution_count": null,
   "id": "a088b331-d348-42cd-b0da-b18d10039ebd",
   "metadata": {},
   "outputs": [],
   "source": []
  },
  {
   "cell_type": "code",
   "execution_count": null,
   "id": "4262c02d-d439-4611-99df-492d390277ea",
   "metadata": {},
   "outputs": [],
   "source": []
  },
  {
   "cell_type": "code",
   "execution_count": null,
   "id": "214af8eb-d6ec-44d7-a3fb-8d6d5ce3b055",
   "metadata": {},
   "outputs": [],
   "source": [
    "df_original = df_gen[['image_id', 'id', 'caption_pt']]\n",
    "df_original"
   ]
  },
  {
   "cell_type": "code",
   "execution_count": null,
   "id": "b7d1dc3d-42da-4519-8aea-11e7840fcdb3",
   "metadata": {},
   "outputs": [],
   "source": [
    "df_generated = df_gen[['image_id', 'id']]\n",
    "df_generated['caption_pt'] = df_gen['gen_caption']\n",
    "df_generated"
   ]
  },
  {
   "cell_type": "code",
   "execution_count": 14,
   "id": "bb375bca-95c0-47f7-b125-84e28a6dd55e",
   "metadata": {},
   "outputs": [],
   "source": [
    "# # salvando\n",
    "# df_list = df_original.to_dict(orient='records')\n",
    "\n",
    "# with open('COCO_Annotations_pt_original.json', 'w') as f:\n",
    "#     json.dump(df_list, f)"
   ]
  },
  {
   "cell_type": "code",
   "execution_count": null,
   "id": "7b66a987-d423-4bf6-887b-5044ffc15494",
   "metadata": {},
   "outputs": [],
   "source": [
    "# # salvando\n",
    "# df_list = df_generated.to_dict(orient='records')\n",
    "\n",
    "# with open('COCO_Annotations_pt_generated.json', 'w') as f:\n",
    "#     json.dump(df_list, f)"
   ]
  },
  {
   "cell_type": "code",
   "execution_count": null,
   "id": "0ff8a317-c62f-45ff-9b60-dc2f01a6afd9",
   "metadata": {},
   "outputs": [],
   "source": [
    "json_original = 'COCO_Annotations_pt_original.json'\n",
    "json_generated = 'COCO_Annotations_pt_generated.json'"
   ]
  },
  {
   "cell_type": "code",
   "execution_count": null,
   "id": "2bb69044-33ae-40fe-a43c-e1ff3391def9",
   "metadata": {},
   "outputs": [],
   "source": [
    "\n",
    "# with open(json_original) as json_data:\n",
    "#     coco_pt_original = json.load(json_data)\n",
    "    \n",
    "\n",
    "# with open(json_generated) as json_data:\n",
    "#     coco_pt_generated = json.load(json_data)"
   ]
  },
  {
   "cell_type": "code",
   "execution_count": null,
   "id": "e3be983c-b608-4659-8627-a0888cbc82d9",
   "metadata": {},
   "outputs": [],
   "source": [
    "len(coco_pt_original)"
   ]
  },
  {
   "cell_type": "code",
   "execution_count": null,
   "id": "ebee935e-f86c-4cad-bd07-bceacaacd861",
   "metadata": {},
   "outputs": [],
   "source": [
    "# df_gen['caption_pt'][0]\n",
    "# score(coco_pt_original[0], coco_pt_generated[0] )"
   ]
  },
  {
   "cell_type": "code",
   "execution_count": null,
   "id": "15067a05-c460-447f-a6a0-a2a7ea83374c",
   "metadata": {},
   "outputs": [],
   "source": [
    "# COCO_original\n",
    "coco = COCO(original_COCO_path)\n",
    "# cocoRes = coco.loadRes(resFile)"
   ]
  },
  {
   "cell_type": "code",
   "execution_count": null,
   "id": "6a634c2d-cc05-4ef2-89cd-c1961aaf090b",
   "metadata": {},
   "outputs": [],
   "source": [
    "# type(COCO_original)\n",
    "COCO_original.keys()\n",
    "# len(COCO_original['annotations'])"
   ]
  },
  {
   "cell_type": "code",
   "execution_count": null,
   "id": "d9c43b90-4ffa-4272-bd94-eb2184855f76",
   "metadata": {},
   "outputs": [],
   "source": [
    "# len(COCO_original['annotations'])\n",
    "COCO_original['annotations'][0]"
   ]
  }
 ],
 "metadata": {
  "kernelspec": {
   "display_name": "Python 3",
   "language": "python",
   "name": "python3"
  },
  "language_info": {
   "codemirror_mode": {
    "name": "ipython",
    "version": 3
   },
   "file_extension": ".py",
   "mimetype": "text/x-python",
   "name": "python",
   "nbconvert_exporter": "python",
   "pygments_lexer": "ipython3",
   "version": "3.9.12"
  }
 },
 "nbformat": 4,
 "nbformat_minor": 5
}
